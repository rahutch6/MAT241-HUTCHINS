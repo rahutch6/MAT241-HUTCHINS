{
  "nbformat": 4,
  "nbformat_minor": 0,
  "metadata": {
    "colab": {
      "provenance": [],
      "authorship_tag": "ABX9TyNkHWUuwoK5QtuzXszrjUQx",
      "include_colab_link": true
    },
    "kernelspec": {
      "name": "python3",
      "display_name": "Python 3"
    },
    "language_info": {
      "name": "python"
    }
  },
  "cells": [
    {
      "cell_type": "markdown",
      "metadata": {
        "id": "view-in-github",
        "colab_type": "text"
      },
      "source": [
        "<a href=\"https://colab.research.google.com/github/rahutch6/MAT241-HUTCHINS/blob/main/module_A.ipynb\" target=\"_parent\"><img src=\"https://colab.research.google.com/assets/colab-badge.svg\" alt=\"Open In Colab\"/></a>"
      ]
    },
    {
      "cell_type": "markdown",
      "source": [
        "number => \\<digit\\>*\\<base\\>^place#\n",
        "\n",
        "  eg: 123 in decimal = 1\\*10^2 + 2\\*10^1 + 3\\*10^0\n",
        "\n",
        "float: (-1)^8 2^(e-1023)(1+f) (64 bit)\n",
        "\n",
        "subnormal=> when exponent is 0, leading 1 in frc\n"
      ],
      "metadata": {
        "id": "AgzhPmRC62U_"
      }
    },
    {
      "cell_type": "code",
      "execution_count": 11,
      "metadata": {
        "colab": {
          "base_uri": "https://localhost:8080/"
        },
        "id": "b3ZgGnl26dNz",
        "outputId": "86b5492a-f204-4191-d8af-c9c1ebfdff59"
      },
      "outputs": [
        {
          "output_type": "execute_result",
          "data": {
            "text/plain": [
              "2.2250738585072014e-308"
            ]
          },
          "metadata": {},
          "execution_count": 11
        }
      ],
      "source": [
        "import sys\n",
        "sys.float_info\n",
        "import numpy as np\n",
        "np.spacing(1e9)\n",
        "1e9==(1e9+np.spacing(1e9)/3)\n",
        "\n",
        "largest = (2**(2046-1023))*((1+sum(0.5**np.arange(1,53))))\n",
        "largest\n",
        "\n",
        "sys.float_info.max #overflow\n",
        "\n",
        "smallest=(2**(1-1023))**(1+8)\n",
        "smallest\n",
        "sys.float_info.min #underflow\n"
      ]
    },
    {
      "cell_type": "code",
      "source": [
        "#~~~~~~~~~~ROUND OFF ERROR~~~~~~~~~~~~~~~~~~~~~\n",
        "\n",
        "4.9-4.845 == 0.055\n",
        "\n",
        "4.9-4.845"
      ],
      "metadata": {
        "colab": {
          "base_uri": "https://localhost:8080/"
        },
        "id": "U1D10xHUBZ-h",
        "outputId": "e5176942-83bb-4e04-ef12-6d0467118f5d"
      },
      "execution_count": 15,
      "outputs": [
        {
          "output_type": "execute_result",
          "data": {
            "text/plain": [
              "0.055000000000000604"
            ]
          },
          "metadata": {},
          "execution_count": 15
        }
      ]
    }
  ]
}