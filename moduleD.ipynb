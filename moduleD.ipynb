{
  "nbformat": 4,
  "nbformat_minor": 0,
  "metadata": {
    "colab": {
      "provenance": [],
      "authorship_tag": "ABX9TyOPjSuya8HaOTG3wHd8INbB",
      "include_colab_link": true
    },
    "kernelspec": {
      "name": "python3",
      "display_name": "Python 3"
    },
    "language_info": {
      "name": "python"
    }
  },
  "cells": [
    {
      "cell_type": "markdown",
      "metadata": {
        "id": "view-in-github",
        "colab_type": "text"
      },
      "source": [
        "<a href=\"https://colab.research.google.com/github/rahutch6/MAT241-HUTCHINS/blob/main/moduleD.ipynb\" target=\"_parent\"><img src=\"https://colab.research.google.com/assets/colab-badge.svg\" alt=\"Open In Colab\"/></a>"
      ]
    },
    {
      "cell_type": "code",
      "execution_count": null,
      "metadata": {
        "id": "AnXMOTx1fVsd"
      },
      "outputs": [],
      "source": []
    },
    {
      "cell_type": "markdown",
      "source": [
        "span(w1...wn) = sum(aj(wj)) j=1->n\n",
        "in nxm matrix: com(A)=span(a1...am)\n",
        "\n",
        "linear independence:\n",
        "no row can be written in terms of any other (c1v1 + c2v2 + ... cnvn)=0 only when c1,c2,...cn !=0\n",
        "\n",
        "basis: v1,v2,...vn basis for V iff they are linearly indep and span(V)\n",
        "\n",
        "subspace: S is subspace of V if \n",
        "  S nonempty\n",
        "  x is in S and a is scalar, ax is in S\n",
        "  if x,y in S then x+y is in S\n",
        "\n",
        "orthogonality: ||x|| = sqrt(x1^2+...+xn^2)\n",
        "<x,y>=xTy\n",
        "x(transpose)y = 0  if orthogonal\n",
        "\n",
        "evalues/evectors\n",
        "if A is nxn, lambda is eigen value of A if there's nonzero x such taht Ax=(lambda)x; x is eigenvector belonging to evalue lambda\n",
        "\n",
        "symmetry: A symmetrical if A=PDP^-1 for some P and diagonlaization D\n",
        "all symmetrical always have real Evalues/Evectors (diagonalizable)\n",
        "\n",
        "contrained optimization: if A=pdpt, columns of P are orth. evectors, then mix(xtAx / xtx) = Evalue n when x=vn, and \n",
        "\n",
        "linear regression: given m lin.indep set, need linear projection\n",
        "Ax=b and A=QR, then  x solves atax=atb and so x solves Rx=Qtb ~ projection matrix onto R(A) is P=QQt\n",
        "R is upper triangular matrix\n",
        "\n",
        "Least squares\n",
        "F=kx - find best k to fit all cases\n",
        "||b-y||>||b-p||, if p is in S, p is closest to a given vector b in R^m iff b-p is in nullspace of S\n",
        "\n"
      ],
      "metadata": {
        "id": "6sGmQgTmfWMK"
      }
    }
  ]
}