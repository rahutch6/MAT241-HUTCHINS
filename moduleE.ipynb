{
  "nbformat": 4,
  "nbformat_minor": 0,
  "metadata": {
    "colab": {
      "provenance": [],
      "authorship_tag": "ABX9TyOwLBQIN9DUX8UgRpECUYnD",
      "include_colab_link": true
    },
    "kernelspec": {
      "name": "python3",
      "display_name": "Python 3"
    },
    "language_info": {
      "name": "python"
    }
  },
  "cells": [
    {
      "cell_type": "markdown",
      "metadata": {
        "id": "view-in-github",
        "colab_type": "text"
      },
      "source": [
        "<a href=\"https://colab.research.google.com/github/rahutch6/MAT241-HUTCHINS/blob/main/moduleE.ipynb\" target=\"_parent\"><img src=\"https://colab.research.google.com/assets/colab-badge.svg\" alt=\"Open In Colab\"/></a>"
      ]
    },
    {
      "cell_type": "code",
      "execution_count": null,
      "metadata": {
        "id": "yRF0CmPjo5Co"
      },
      "outputs": [],
      "source": []
    },
    {
      "cell_type": "markdown",
      "source": [
        "**CONTINUITY AND DIFFERENTIATION**\n",
        "LIMITS DEFINITION:\n",
        "Let f : D → R be a real-valued function on D ⊆ Rd (real # R). Then f is said to have a limit L∈R as x approaches a if: \n",
        "*   for any ε>0, there exists a δ>0 such that | f (x)−L| <εfor all x ∈ D ∩Bδ(a)\\{a}.\n",
        "\n",
        "This is written as limx→a f (x)=L.\n",
        "\n",
        "\n",
        "CONTINUOUS FUNCTIONs are functions that do not have any abrupt changes; continuous if lim(f(x)) x->a = f(a)\n",
        "*   if f is cont. at x0 and g is cont. at f(x0), then g*f is cont. at x0\n",
        "\n",
        "EXTREMUM: if f:D->|R defined on set dC=|R^d, we say f attains max value M at z* if f(z*)=M and M>=f(x) for all xED; and min value m at z. if f(z.)=m and m<=f(x) for all xED\n",
        "\n",
        "THM (EXTREME VALUE): if f is cont. funct on nonempty, closed, bounded set D C= |R^d, then f attains a max and min value somewhere on D\n",
        "\n",
        "DIFFERENTIATION DEFINITION\n",
        "f'(x0)=lim (1/h)(f(x0+h)-f(x0) as h->0\n",
        "\n",
        "(af(x)+bg(x))' = af'(x)+bg'(x)\n",
        "\n",
        "AVERAGE VALUE: (1/(b-a)) (f(b)-f(a)) = f'(c)\n",
        "\n",
        "JACOBIAN: matrix of partial derivatives, reduces to Jf(x) = Vf(x0)^T (gradient of transverse of f(x0))\n",
        "\n",
        "\n",
        "**UNCONSTRAINED OPTIMIZATION**\n",
        "\n",
        "GLOBAL MINIMIZER: f: |R^d -> |R; the point x\\*E|R^d is global minimizer if f(x)>=f(x*), for all xE|R^d\n",
        "\n",
        "LOCAL MINIMIZER: x\\*E|R^d is local minimizer of f over |R^d if there is some #>0 such that f(x)>=f(x\\*) over xEB(#)(x\\*)/{x\\*}; if f(x)>f(x\\*) (not equal to), then x\\* is strict local minimizer\n",
        "\n",
        "\n",
        "DESCENT DIRECTION: vector **v** is descent direction for f at x0 if a\\*>0 s.t. f(x0+av)< f(x0) for all aE(0,a\\*)\n",
        "\n",
        "DESCENT DIRECTION AND DIRECTIONAL DERIVATIVE: vector v is descent direction of f at x0 if partial derivative(f(x0)/v) = grad(trans(f(x0))v) < 0\n",
        "\n",
        "SECOND ORDER SUFFICIENT CONDITION for local minimizers: if f is twice continuously differentiable, and grad(f(x0))=0 and Hf(x0) is positive definite, then x0 is strict local minimizer\n",
        "\n",
        "CONVEX SET: A set DC=|R^d is conves if for all x,yED and all aE\\[ 0 , 1 ] (1-a)x + ay E D\n",
        "\n",
        "CONVEX FUNCTION: f((1-a)x+ay) <= (1-a)f(x) + af(y) for all x,y\n",
        "\n",
        "SECOND ORDER CONVEXITY CONDITION: f conves iff for all xE|R^d, Hf(x) is PSD\n",
        "\n",
        "GLOBAL MINIMIZERS OF CONVEX FUNCTIONS: if f is convex, then any local minimizer is also global minimizer\n",
        "\n",
        "STEEPEST DESCENT: partial deriv.(f(x0)/**v**) >= partial deriv.(f(x0)/v\\*), where v\\* = - (grad(f(x0) / ||grad(f(x0))||)\n",
        "\n"
      ],
      "metadata": {
        "id": "v0yNwp4j2hhN"
      }
    }
  ]
}