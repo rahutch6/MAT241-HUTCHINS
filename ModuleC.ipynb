{
  "nbformat": 4,
  "nbformat_minor": 0,
  "metadata": {
    "colab": {
      "provenance": [],
      "authorship_tag": "ABX9TyOQHM/SyWJsgCbpg8dLxdBC",
      "include_colab_link": true
    },
    "kernelspec": {
      "name": "python3",
      "display_name": "Python 3"
    },
    "language_info": {
      "name": "python"
    }
  },
  "cells": [
    {
      "cell_type": "markdown",
      "metadata": {
        "id": "view-in-github",
        "colab_type": "text"
      },
      "source": [
        "<a href=\"https://colab.research.google.com/github/rahutch6/MAT241-HUTCHINS/blob/main/ModuleC.ipynb\" target=\"_parent\"><img src=\"https://colab.research.google.com/assets/colab-badge.svg\" alt=\"Open In Colab\"/></a>"
      ]
    },
    {
      "cell_type": "markdown",
      "source": [
        "ROOT FINDING\n",
        "\n",
        "\n",
        "\n",
        "*   we have equation for quadratic eqn roots, how do we find roots of other kinds of functions?\n",
        "*   use fsolve(x,n) to find root (or approx. soln if none exists)\n",
        "\n"
      ],
      "metadata": {
        "id": "Rzl-iM2e3LMI"
      }
    },
    {
      "cell_type": "code",
      "execution_count": 2,
      "metadata": {
        "colab": {
          "base_uri": "https://localhost:8080/"
        },
        "id": "5Y-75B653CiT",
        "outputId": "3ae7014d-c318-4e53-97ab-2b49ffe84312"
      },
      "outputs": [
        {
          "output_type": "stream",
          "name": "stdout",
          "text": [
            "r1 = 1.4375\n",
            "r01 = 1.4140625\n",
            "f(r1) = 0.06640625\n",
            "f(r01) = -0.00042724609375\n"
          ]
        }
      ],
      "source": [
        "#BISECTION METHOD\n",
        "import numpy as np\n",
        "\n",
        "def my_bisection(f, a, b, tol): \n",
        "    if np.sign(f(a)) == np.sign(f(b)):\n",
        "        raise Exception(\n",
        "         \"The scalars a and b do not bound a root\")\n",
        "        \n",
        "    # get midpoint\n",
        "    m = (a + b)/2\n",
        "    \n",
        "    if np.abs(f(m)) < tol:\n",
        "        # stopping condition, report m as root\n",
        "        return m\n",
        "    elif np.sign(f(a)) == np.sign(f(m)):\n",
        "        # case where m is an improvement on a. \n",
        "        # Make recursive call with a = m\n",
        "        return my_bisection(f, m, b, tol)\n",
        "    elif np.sign(f(b)) == np.sign(f(m)):\n",
        "        # case where m is an improvement on b. \n",
        "        # Make recursive call with b = m\n",
        "        return my_bisection(f, a, m, tol)\n",
        "\n",
        "\n",
        "f = lambda x: x**2 - 2\n",
        "\n",
        "r1 = my_bisection(f, 0, 2, 0.1)\n",
        "print(\"r1 =\", r1)\n",
        "r01 = my_bisection(f, 0, 2, 0.01)\n",
        "print(\"r01 =\", r01)\n",
        "\n",
        "print(\"f(r1) =\", f(r1))\n",
        "print(\"f(r01) =\", f(r01))"
      ]
    },
    {
      "cell_type": "markdown",
      "source": [
        "bisection method based on intermediate value thm. it uses this thm iteratively to find roots.\n",
        "\n",
        "find a + and - value, keep taking average: if avg is +, find avg between that avg and the - value. if avg is -, find avg between that avg and + value"
      ],
      "metadata": {
        "id": "GXB6FaQN5nEj"
      }
    },
    {
      "cell_type": "code",
      "source": [
        "#NEWTON-RAPHSON METHOD\n",
        "import numpy as np\n",
        "\n",
        "f = lambda x: x**2 - 2\n",
        "f_prime = lambda x: 2*x\n",
        "newton_raphson = 1.4 - (f(1.4))/(f_prime(1.4))\n",
        "\n",
        "print(\"newton_raphson =\", newton_raphson)\n",
        "print(\"sqrt(2) =\", np.sqrt(2))\n",
        "\n",
        "def my_newton(f, df, x0, tol):\n",
        "    # output is an estimation of the root of f \n",
        "    # using the Newton Raphson method\n",
        "    # recursive implementation\n",
        "    if abs(f(x0)) < tol:\n",
        "        return x0\n",
        "    else:\n",
        "        return my_newton(f, df, x0 - f(x0)/df(x0), tol)\n",
        "\n",
        "estimate = my_newton(f, f_prime, 1.5, 1e-6)\n",
        "print(\"estimate =\", estimate)\n",
        "print(\"sqrt(2) =\", np.sqrt(2))"
      ],
      "metadata": {
        "colab": {
          "base_uri": "https://localhost:8080/"
        },
        "id": "jOwEimt36h07",
        "outputId": "5d23f1d9-ccef-4121-89ee-0acd7fc996f6"
      },
      "execution_count": 3,
      "outputs": [
        {
          "output_type": "stream",
          "name": "stdout",
          "text": [
            "newton_raphson = 1.4142857142857144\n",
            "sqrt(2) = 1.4142135623730951\n",
            "estimate = 1.4142135623746899\n",
            "sqrt(2) = 1.4142135623730951\n"
          ]
        }
      ]
    },
    {
      "cell_type": "markdown",
      "source": [
        "newton-raphson method\n",
        "\n",
        "find derivative at some point, find root of that line, which will be approx root of that eqn hopefully \n",
        "\n",
        "f(x) = f(x0) + f'(x0)(x-x0)\n",
        "\n",
        "xi = x(sub(i-1)) - [g(x(sub i-1)) / g'(x(sub i-1))]"
      ],
      "metadata": {
        "id": "wDt5KqfP6iML"
      }
    }
  ]
}